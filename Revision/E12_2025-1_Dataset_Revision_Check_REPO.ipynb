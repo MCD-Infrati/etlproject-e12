{
 "cells": [
  {
   "cell_type": "code",
   "execution_count": 1,
   "id": "jyRJCtK6Bafr",
   "metadata": {
    "executionInfo": {
     "elapsed": 11,
     "status": "ok",
     "timestamp": 1750818549763,
     "user": {
      "displayName": "Ángela Villota Gómez",
      "userId": "10405110632207482659"
     },
     "user_tz": 300
    },
    "id": "jyRJCtK6Bafr"
   },
   "outputs": [],
   "source": [
    "import pandas as pd\n",
    "import numpy as np"
   ]
  },
  {
   "cell_type": "code",
   "execution_count": 2,
   "id": "pV5CRzjSBohf",
   "metadata": {
    "colab": {
     "base_uri": "https://localhost:8080/"
    },
    "executionInfo": {
     "elapsed": 11,
     "status": "ok",
     "timestamp": 1750818549775,
     "user": {
      "displayName": "Ángela Villota Gómez",
      "userId": "10405110632207482659"
     },
     "user_tz": 300
    },
    "id": "pV5CRzjSBohf",
    "outputId": "4c42f937-abed-4b55-bb2d-de94dae83d67"
   },
   "outputs": [
    {
     "name": "stdout",
     "output_type": "stream",
     "text": [
      "Original labels: 81\n",
      "Normalized labels: 81\n"
     ]
    }
   ],
   "source": [
    "# ======================\n",
    "# CONFIGURATION\n",
    "# ======================\n",
    "\n",
    "# Path to dataset to be revised\n",
    "dataset_path = \"../salida.csv\"  # Change this for the path of your resulting csv\n",
    "\n",
    "# Delimiter used in the CSV\n",
    "DELIMITER = \",\"\n",
    "\n",
    "# Initialize test counter\n",
    "passed_tests = 0\n",
    "total_tests = 0\n",
    "\n",
    "# Original labels with spaces (for matching against columns as-is)\n",
    "labels = ['PID' ,'MS SubClass' ,'MS Zoning' ,'Lot Frontage' ,'Lot Area' ,'Street' ,'Alley' ,'Lot Shape',\n",
    "          'Land Contour' ,'Utilities' ,'Lot Config' ,'Land Slope' ,'Neighborhood' ,'Condition 1' ,\n",
    "          'Condition 2' ,'Bldg Type' ,'House Style' ,'Overall Qual' ,'Overall Cond' ,'Year Built' ,\n",
    "          'Year Remod/Add' ,'Roof Style' ,'Roof Matl' ,'Exterior 1st' ,'Exterior 2nd' ,'Mas Vnr Type' ,\n",
    "          'Mas Vnr Area' ,'Exter Qual' ,'Exter Cond' ,'Foundation' ,'Bsmt Qual' ,'Bsmt Cond' ,'Bsmt Exposure',\n",
    "          'BsmtFin Type 1' ,'BsmtFin SF 1' ,'BsmtFin Type 2' ,'BsmtFin SF 2' ,'Bsmt Unf SF' ,'Total Bsmt SF' ,\n",
    "          'Heating' ,'Heating QC' ,'Central Air' ,'Electrical' ,'1st Flr SF' ,'2nd Flr SF' ,'Low Qual Fin SF',\n",
    "          'Gr Liv Area' ,'Bsmt Full Bath' ,'Bsmt Half Bath' ,'Full Bath' ,'Half Bath' ,'Bedroom','Kitchen AbvGr' ,\n",
    "          'Kitchen Qual' ,'TotRms AbvGrd' ,'Functional' ,'Fireplaces' ,'Fireplace Qu' ,'Garage Type' ,\n",
    "          'Garage Yr Blt' ,'Garage Finish' ,'Garage Cars' ,'Garage Area' ,'Garage Qual' ,'Garage Cond' ,\n",
    "          'Paved Drive' ,'Wood Deck SF' ,'Open Porch SF' ,'Enclosed Porch' ,'3Ssn Porch' ,'Screen Porch' ,\n",
    "          'Pool Area' ,'Pool QC' ,'Fence' ,'Misc Feature' ,'Misc Val' ,'Mo Sold' ,'Yr Sold' ,'Sale Type' ,\n",
    "          'Sale Condition' ,'SalePrice']\n",
    "\n",
    "# Normalized (without spaces) version of the original labels\n",
    "labelsNS = ['PID','MSSubClass','MSZoning','LotFrontage','LotArea','Street','Alley','LotShape','LandContour','Utilities',\n",
    "            'LotConfig','LandSlope','Neighborhood','Condition1','Condition2','BldgType','HouseStyle','OverallQual','OverallCond',\n",
    "            'YearBuilt','YearRemodAdd','RoofStyle','RoofMatl','Exterior1st','Exterior2nd','MasVnrType','MasVnrArea','ExterQual',\n",
    "            'ExterCond','Foundation','BsmtQual','BsmtCond','BsmtExposure','BsmtFinType1','BsmtFinSF1','BsmtFinType2','BsmtFinSF2',\n",
    "            'BsmtUnfSF','TotalBsmtSF','Heating','HeatingQC','CentralAir','Electrical','1stFlrSF','2ndFlrSF','LowQualFinSF','GrLivArea',\n",
    "            'BsmtFullBath','BsmtHalfBath','FullBath','HalfBath','Bedroom','Kitchen','KitchenQual','TotRmsAbvGrd','Functional','Fireplaces',\n",
    "            'FireplaceQu','GarageType','GarageYrBlt','GarageFinish','GarageCars','GarageArea','GarageQual','GarageCond','PavedDrive',\n",
    "            'WoodDeckSF','OpenPorchSF','EnclosedPorch','3SsnPorch','ScreenPorch','PoolArea','PoolQC','Fence','MiscFeature','MiscVal',\n",
    "            'MoSold','YrSold','SaleType','SaleCondition','SalePrice']\n",
    "\n",
    "print(\"Original labels:\", len(labels))\n",
    "print(\"Normalized labels:\", len(labelsNS))\n"
   ]
  },
  {
   "cell_type": "code",
   "execution_count": 3,
   "id": "_B87AauWCaQ4",
   "metadata": {
    "colab": {
     "base_uri": "https://localhost:8080/"
    },
    "executionInfo": {
     "elapsed": 64,
     "status": "ok",
     "timestamp": 1750818549845,
     "user": {
      "displayName": "Ángela Villota Gómez",
      "userId": "10405110632207482659"
     },
     "user_tz": 300
    },
    "id": "_B87AauWCaQ4",
    "outputId": "3bfb192f-cf1c-4998-d04e-25f3a9266031"
   },
   "outputs": [
    {
     "name": "stdout",
     "output_type": "stream",
     "text": [
      "\n",
      "==== Loading dataset ====\n",
      "Dataset loaded. Shape: (2930, 19)\n",
      "\n",
      "==== Checking dimensions ====\n",
      "FAILED\n",
      "Expected shape: (2930, 81)\n",
      "Actual shape: (2930, 19)\n"
     ]
    }
   ],
   "source": [
    "# ======================\n",
    "# 1. LOAD DATASET\n",
    "# ======================\n",
    "\n",
    "print(\"\\n==== Loading dataset ====\")\n",
    "df = pd.read_csv(dataset_path, delimiter=DELIMITER, keep_default_na=False)\n",
    "\n",
    "print(\"Dataset loaded. Shape:\", df.shape)\n",
    "\n",
    "# ======================\n",
    "# 2. DIMENSIONS CHECK\n",
    "# ======================\n",
    "print(\"\\n==== Checking dimensions ====\")\n",
    "expected_shape = (2930, 81)\n",
    "total_tests += 1\n",
    "if df.shape == expected_shape:\n",
    "    passed_tests += 1\n",
    "    print(\"PASSED\")\n",
    "else:\n",
    "    print(\"FAILED\")\n",
    "print(\"Expected shape:\", expected_shape)\n",
    "print(\"Actual shape:\", df.shape)"
   ]
  },
  {
   "cell_type": "code",
   "execution_count": 4,
   "id": "4y8peDEkCVxJ",
   "metadata": {
    "colab": {
     "base_uri": "https://localhost:8080/"
    },
    "executionInfo": {
     "elapsed": 12,
     "status": "ok",
     "timestamp": 1750818549846,
     "user": {
      "displayName": "Ángela Villota Gómez",
      "userId": "10405110632207482659"
     },
     "user_tz": 300
    },
    "id": "4y8peDEkCVxJ",
    "outputId": "1afa96a2-075a-44b0-f41d-d22cfe4b56aa"
   },
   "outputs": [
    {
     "name": "stdout",
     "output_type": "stream",
     "text": [
      "\n",
      "==== Checking for NULLs ====\n",
      "PASSED: No NULL values found.\n"
     ]
    }
   ],
   "source": [
    "# ======================\n",
    "# 3. NULL CHECK\n",
    "# ======================\n",
    "print(\"\\n==== Checking for NULLs ====\")\n",
    "null_percent = df.isnull().mean() * 100\n",
    "null_report = null_percent[null_percent > 0]\n",
    "total_tests += 1\n",
    "if null_report.empty:\n",
    "    passed_tests += 1\n",
    "    print(\"PASSED: No NULL values found.\")\n",
    "else:\n",
    "    print(\"FAILED: NULL values found: \\n\\nCOLUMN NAME \\t % null values\")\n",
    "    print(null_report.sort_values(ascending=False))\n"
   ]
  },
  {
   "cell_type": "code",
   "execution_count": 5,
   "id": "dG_c4Y-SCTuh",
   "metadata": {
    "colab": {
     "base_uri": "https://localhost:8080/"
    },
    "executionInfo": {
     "elapsed": 9,
     "status": "ok",
     "timestamp": 1750818549846,
     "user": {
      "displayName": "Ángela Villota Gómez",
      "userId": "10405110632207482659"
     },
     "user_tz": 300
    },
    "id": "dG_c4Y-SCTuh",
    "outputId": "3d730f91-061e-479b-8f7e-f846f9882338"
   },
   "outputs": [
    {
     "name": "stdout",
     "output_type": "stream",
     "text": [
      "\n",
      "==== Checking labels (with spaces) ====\n",
      "FAILED\n",
      "Missing columns: ['MS SubClass', 'MS Zoning', 'Roof Style', 'Roof Matl', 'Exterior 1st', 'Exterior 2nd', 'Mas Vnr Type', 'Mas Vnr Area', 'Exter Qual', 'Exter Cond', 'Foundation', 'Bsmt Qual', 'Bsmt Cond', 'Bsmt Exposure', 'BsmtFin Type 1', 'BsmtFin SF 1', 'BsmtFin Type 2', 'BsmtFin SF 2', 'Bsmt Unf SF', 'Total Bsmt SF', 'Heating', 'Heating QC', 'Central Air', 'Electrical', '1st Flr SF', '2nd Flr SF', 'Low Qual Fin SF', 'Gr Liv Area', 'Bsmt Full Bath', 'Bsmt Half Bath', 'Full Bath', 'Half Bath', 'Bedroom', 'Kitchen AbvGr', 'Kitchen Qual', 'TotRms AbvGrd', 'Functional', 'Fireplaces', 'Fireplace Qu', 'Garage Type', 'Garage Yr Blt', 'Garage Finish', 'Garage Cars', 'Garage Area', 'Garage Qual', 'Garage Cond', 'Paved Drive', 'Wood Deck SF', 'Open Porch SF', 'Enclosed Porch', '3Ssn Porch', 'Screen Porch', 'Pool Area', 'Pool QC', 'Fence', 'Misc Feature', 'Misc Val', 'Mo Sold', 'Yr Sold', 'Sale Type', 'Sale Condition', 'SalePrice']\n",
      "Extra columns: []\n",
      "\n",
      "==== Checking labels (no spaces) ====\n",
      "FAILED\n",
      "Missing normalized columns: ['MSSubClass', 'MSZoning', 'YearRemodAdd', 'RoofStyle', 'RoofMatl', 'Exterior1st', 'Exterior2nd', 'MasVnrType', 'MasVnrArea', 'ExterQual', 'ExterCond', 'Foundation', 'BsmtQual', 'BsmtCond', 'BsmtExposure', 'BsmtFinType1', 'BsmtFinSF1', 'BsmtFinType2', 'BsmtFinSF2', 'BsmtUnfSF', 'TotalBsmtSF', 'Heating', 'HeatingQC', 'CentralAir', 'Electrical', '1stFlrSF', '2ndFlrSF', 'LowQualFinSF', 'GrLivArea', 'BsmtFullBath', 'BsmtHalfBath', 'FullBath', 'HalfBath', 'Bedroom', 'Kitchen', 'KitchenQual', 'TotRmsAbvGrd', 'Functional', 'Fireplaces', 'FireplaceQu', 'GarageType', 'GarageYrBlt', 'GarageFinish', 'GarageCars', 'GarageArea', 'GarageQual', 'GarageCond', 'PavedDrive', 'WoodDeckSF', 'OpenPorchSF', 'EnclosedPorch', '3SsnPorch', 'ScreenPorch', 'PoolArea', 'PoolQC', 'Fence', 'MiscFeature', 'MiscVal', 'MoSold', 'YrSold', 'SaleType', 'SaleCondition', 'SalePrice']\n",
      "Extra normalized columns: ['YearRemod/Add']\n"
     ]
    }
   ],
   "source": [
    "# ======================\n",
    "# 4. LABEL MATCH CHECK\n",
    "# ======================\n",
    "print(\"\\n==== Checking labels (with spaces) ====\")\n",
    "missing_labels = [col for col in labels if col not in df.columns]\n",
    "extra_labels = [col for col in df.columns if col not in labels]\n",
    "total_tests += 1\n",
    "if not missing_labels and not extra_labels:\n",
    "    passed_tests += 1\n",
    "    print(\"PASSED\")\n",
    "else:\n",
    "    print(\"FAILED\")\n",
    "print(\"Missing columns:\", missing_labels)\n",
    "print(\"Extra columns:\", extra_labels)\n",
    "\n",
    "print(\"\\n==== Checking labels (no spaces) ====\")\n",
    "normalized_columns = [col.replace(\" \", \"\") for col in df.columns]\n",
    "missing_labels_ns = [col for col in labelsNS if col not in normalized_columns]\n",
    "extra_labels_ns = [col for col in normalized_columns if col not in labelsNS]\n",
    "\n",
    "if not missing_labels_ns and not extra_labels_ns:\n",
    "    passed_tests += 1\n",
    "    print(\"PASSED\")\n",
    "    print(\"If you Passed this test, you should fix some of the calls in the following code\")\n",
    "else:\n",
    "    print(\"FAILED\")\n",
    "print(\"Missing normalized columns:\", missing_labels_ns)\n",
    "print(\"Extra normalized columns:\", extra_labels_ns)"
   ]
  },
  {
   "cell_type": "code",
   "execution_count": null,
   "id": "O_znq1FqCOq1",
   "metadata": {
    "colab": {
     "base_uri": "https://localhost:8080/"
    },
    "executionInfo": {
     "elapsed": 3,
     "status": "ok",
     "timestamp": 1750818549846,
     "user": {
      "displayName": "Ángela Villota Gómez",
      "userId": "10405110632207482659"
     },
     "user_tz": 300
    },
    "id": "O_znq1FqCOq1",
    "outputId": "12b19827-0981-49b8-8353-12dc0e609702"
   },
   "outputs": [
    {
     "name": "stdout",
     "output_type": "stream",
     "text": [
      "[ERROR] Columns ['Gr Liv Area', 'GrLivArea'] not found. Please check column names.\n",
      "[ERROR] Columns ['Full_Bath', 'FullBath', 'Full Bath'] not found. Please check column names.\n",
      "[ERROR] Columns ['Half Bath', 'HalfBath'] not found. Please check column names.\n",
      "[ERROR] Columns ['bedrooms'] not found. Please check column names.\n"
     ]
    }
   ],
   "source": [
    "# ======================\n",
    "# 5. TRANSFORMATION CHECKS\n",
    "# ======================\n",
    "def safe_sum(colnames, expected=None, decimals=None):\n",
    "    global total_tests, passed_tests\n",
    "    total_tests += 1\n",
    "    for name in colnames:\n",
    "        if name in df.columns:\n",
    "            s = df[name].sum()\n",
    "            if decimals is not None:\n",
    "                s = round(s, decimals)\n",
    "            print(f\"Sum of '{name}':\", s, \">>> Expected:\", expected)\n",
    "            if s == expected:\n",
    "                passed_tests += 1\n",
    "                print(\"PASSED\")\n",
    "            else:\n",
    "                print(\"FAILED\")\n",
    "            return\n",
    "    print(f\"[ERROR] Columns {colnames} not found. Please check column names.\")\n",
    "\n",
    "def check_average(colnames, expected, decimals=3):\n",
    "    global total_tests, passed_tests\n",
    "    total_tests += 1\n",
    "    for name in colnames:\n",
    "        if name in df.columns:\n",
    "            avg = round(df[name].mean(), decimals)\n",
    "            print(f\"Average of '{name}':\", avg, \">>> Expected:\", expected)\n",
    "            if avg == expected:\n",
    "                passed_tests += 1\n",
    "                print(\"PASSED\")\n",
    "            else:\n",
    "                print(\"FAILED\")\n",
    "            return\n",
    "    print(f\"[ERROR] Columns {colnames} not found. Please check column names.\")\n",
    "\n",
    "\n",
    "check_average(['Gr Liv Area', 'GrLivArea'], expected=1499.690)\n",
    "safe_sum(['Full_Bath', 'FullBath', 'Full Bath'], expected=4591) #fixed manually\n",
    "safe_sum(['Half Bath', 'HalfBath'], expected=1112)\n",
    "safe_sum(['Bedrooms'], expected=8363) #fixed manually\n",
    "\n"
   ]
  },
  {
   "cell_type": "code",
   "execution_count": 13,
   "id": "Y3pqh2sYCMWd",
   "metadata": {
    "colab": {
     "base_uri": "https://localhost:8080/"
    },
    "executionInfo": {
     "elapsed": 195,
     "status": "ok",
     "timestamp": 1750818550040,
     "user": {
      "displayName": "Ángela Villota Gómez",
      "userId": "10405110632207482659"
     },
     "user_tz": 300
    },
    "id": "Y3pqh2sYCMWd",
    "outputId": "38a404c0-635f-4c35-cd81-bbddfde76bc2"
   },
   "outputs": [
    {
     "name": "stdout",
     "output_type": "stream",
     "text": [
      "\n",
      "==== Checking allowed values ====\n",
      "Unique values in 'Neighborhood': ['Bloomington Heights', 'Bluestem', 'Briardale', 'Brookside', 'Clear Creek', 'College Creek', 'Crawford', 'Edwards', 'Gilbert', 'Greens', 'GrnHill', 'Iowa DOT and Rail Road', 'Landmrk', 'Meadow Village', 'Mitchell', 'North Ames', 'Northpark Villa', 'Northridge', 'Northridge Heights', 'Northwest Ames', 'Old Town', 'Sawyer', 'Sawyer West', 'Somerset', 'South & West of Iowa State University', 'Stone Brook', 'Timberland', 'Veenker']\n",
      "Expected values: ['Blmngtn', 'Blueste', 'BrDale', 'BrkSide', 'ClearCr', 'CollgCr', 'Crawfor', 'Edwards', 'Gilbert', 'Greens', 'GrnHill', 'IDOTRR', 'Landmrk', 'MeadowV', 'Mitchel', 'NPkVill', 'NWAmes', 'Names', 'NoRidge', 'NridgHt', 'OldTown', 'SWISU', 'Sawyer', 'SawyerW', 'Somerst', 'StoneBr', 'Timber', 'Veenker']\n",
      "[ERROR] Value 'Bloomington Heights' in column Neighborhood not expected.\n",
      "[ERROR] Value 'Bluestem' in column Neighborhood not expected.\n",
      "[ERROR] Value 'Briardale' in column Neighborhood not expected.\n",
      "[ERROR] Value 'Brookside' in column Neighborhood not expected.\n",
      "[ERROR] Value 'Clear Creek' in column Neighborhood not expected.\n",
      "[ERROR] Value 'College Creek' in column Neighborhood not expected.\n",
      "[ERROR] Value 'Crawford' in column Neighborhood not expected.\n",
      "[ERROR] Value 'Iowa DOT and Rail Road' in column Neighborhood not expected.\n",
      "[ERROR] Value 'Meadow Village' in column Neighborhood not expected.\n",
      "[ERROR] Value 'Mitchell' in column Neighborhood not expected.\n",
      "[ERROR] Value 'North Ames' in column Neighborhood not expected.\n",
      "[ERROR] Value 'Northpark Villa' in column Neighborhood not expected.\n",
      "[ERROR] Value 'Northridge' in column Neighborhood not expected.\n",
      "[ERROR] Value 'Northridge Heights' in column Neighborhood not expected.\n",
      "[ERROR] Value 'Northwest Ames' in column Neighborhood not expected.\n",
      "[ERROR] Value 'Old Town' in column Neighborhood not expected.\n",
      "[ERROR] Value 'Sawyer West' in column Neighborhood not expected.\n",
      "[ERROR] Value 'Somerset' in column Neighborhood not expected.\n",
      "[ERROR] Value 'South & West of Iowa State University' in column Neighborhood not expected.\n",
      "[ERROR] Value 'Stone Brook' in column Neighborhood not expected.\n",
      "[ERROR] Value 'Timberland' in column Neighborhood not expected.\n",
      "FAILED\n",
      "Unique values in 'Condition 1': ['Adjacent to East-West Railroad', 'Adjacent to arterial street', 'Adjacent to feeder street', 'Norm', 'PosA', 'PosN', 'RRAn', 'RRNe', 'RRNn']\n",
      "Expected values: ['Artery', 'Feedr', 'Norm', 'RRNn', 'RRAn', 'PosN', 'PosA', 'RRNe', 'RRAe']\n",
      "[ERROR] Value 'Adjacent to East-West Railroad' in column Condition 1 not expected.\n",
      "[ERROR] Value 'Adjacent to arterial street' in column Condition 1 not expected.\n",
      "[ERROR] Value 'Adjacent to feeder street' in column Condition 1 not expected.\n",
      "FAILED\n",
      "Unique values in 'Lot Shape': ['Irregular', 'Moderately Irregular', 'Regular', 'Slightly irregular']\n",
      "Expected values: ['Reg', 'IR1', 'IR2', 'IR3']\n",
      "[ERROR] Value 'Irregular' in column Lot Shape not expected.\n",
      "[ERROR] Value 'Moderately Irregular' in column Lot Shape not expected.\n",
      "[ERROR] Value 'Regular' in column Lot Shape not expected.\n",
      "[ERROR] Value 'Slightly irregular' in column Lot Shape not expected.\n",
      "FAILED\n"
     ]
    }
   ],
   "source": [
    "# ======================\n",
    "# 6. OPTIONAL TRANSFORMATIONS CHECK\n",
    "# ======================\n",
    "expected_neighborhood = sorted([\"Blmngtn\",\"Blueste\",\"BrDale\",\"BrkSide\",\"ClearCr\",\"CollgCr\",\"Crawfor\",\"Edwards\",\n",
    "                                \"Gilbert\",\"IDOTRR\",\"MeadowV\",\"Mitchel\",\"Names\",\"NoRidge\",\"NPkVill\",\"NridgHt\",\n",
    "                                \"NWAmes\",\"OldTown\",\"SWISU\",\"Sawyer\",\"SawyerW\",\"Somerst\",\"StoneBr\",\"Timber\",\"Veenker\", \"Greens\", \"GrnHill\",\"Landmrk\"])\n",
    "\n",
    "expected_condition1 = [\"Artery\",\"Feedr\",\"Norm\",\"RRNn\",\"RRAn\",\"PosN\",\"PosA\",\"RRNe\",\"RRAe\"]\n",
    "\n",
    "expected_lotshape = [\"Reg\",\"IR1\",\"IR2\",\"IR3\"]\n",
    "\n",
    "print(\"\\n==== Checking allowed values ====\")\n",
    "\n",
    "def check_unique_values(column_name, expected_values):\n",
    "    global total_tests, passed_tests\n",
    "    total_tests += 1\n",
    "    if column_name in df.columns:\n",
    "        unique_vals = sorted(df[column_name].dropna().unique())\n",
    "        print(f\"Unique values in '{column_name}':\", unique_vals)\n",
    "        print(\"Expected values:\", expected_values)\n",
    "        wrongVal=0\n",
    "        for val in unique_vals:\n",
    "            if val not in expected_values:\n",
    "                print(f\"[ERROR] Value '{val}' in column {column_name} not expected.\")\n",
    "                wrongVal+=1\n",
    "        if wrongVal>0:\n",
    "            print(\"FAILED\")\n",
    "        else:\n",
    "            passed_tests += 1\n",
    "            print(\"PASSED\")\n",
    "    else:\n",
    "        print(f\"[ERROR] Column '{column_name}' not found. Please check column names.\")\n",
    "\n",
    "check_unique_values('Neighborhood', expected_neighborhood)\n",
    "check_unique_values('Condition 1', expected_condition1) #Fixed Manually\n",
    "check_unique_values('Lot Shape', expected_lotshape) #Fixed Manually"
   ]
  },
  {
   "cell_type": "code",
   "execution_count": 14,
   "id": "l6xXrqubCJl0",
   "metadata": {
    "colab": {
     "base_uri": "https://localhost:8080/"
    },
    "executionInfo": {
     "elapsed": 10,
     "status": "ok",
     "timestamp": 1750818550041,
     "user": {
      "displayName": "Ángela Villota Gómez",
      "userId": "10405110632207482659"
     },
     "user_tz": 300
    },
    "id": "l6xXrqubCJl0",
    "outputId": "427fa3ea-555a-4cde-a97d-45e4b4c6b08f"
   },
   "outputs": [
    {
     "name": "stdout",
     "output_type": "stream",
     "text": [
      "\n",
      "==== Data type quality checks ====\n",
      "[ERROR] Column 'Exter Cond' not found.\n",
      "[ERROR] Column 'Exter Qual' not found.\n",
      "[ERROR] Column 'Kitchen Qual' not found.\n",
      "[ERROR] Column 'Heating QC' not found.\n",
      "[ERROR] Column 'MS SubClass' not found.\n",
      "[ERROR] Column 'MS Zoning' not found.\n"
     ]
    }
   ],
   "source": [
    "# ======================\n",
    "# 7. QUALITY CHECKS\n",
    "# ======================\n",
    "print(\"\\n==== Data type quality checks ====\")\n",
    "\n",
    "quality_cols = ['Exter Cond','Exter Qual','Kitchen Qual','Heating QC']\n",
    "for col in quality_cols:\n",
    "    total_tests += 1\n",
    "    if col in df.columns:\n",
    "        is_numeric = pd.api.types.is_numeric_dtype(df[col])\n",
    "        print(f\"Column '{col}' numeric?\", is_numeric)\n",
    "        if not is_numeric:\n",
    "            passed_tests += 1\n",
    "            print(\"PASSED\")\n",
    "        else:\n",
    "            print(\"FAILED\")\n",
    "    else:\n",
    "        print(f\"[ERROR] Column '{col}' not found.\")\n",
    "\n",
    "if 'MS SubClass' in df.columns:\n",
    "    total_tests += 1\n",
    "    if pd.api.types.is_numeric_dtype(df['MS SubClass']):\n",
    "        passed_tests += 1\n",
    "        print(\"'MS SubClass' numeric? True PASSED\")\n",
    "    else:\n",
    "        print(\"'MS SubClass' numeric? False FAILED\")\n",
    "else:\n",
    "    print(\"[ERROR] Column 'MS SubClass' not found.\")\n",
    "\n",
    "if 'MS Zoning' in df.columns:\n",
    "    total_tests += 1\n",
    "    zoning_values = sorted(df['MS Zoning'].dropna().unique())\n",
    "    expected_zoning = sorted(['RM', 'RP', 'RL', 'RH', 'A (agr)', 'C (all)', 'FV', 'I (all)'])\n",
    "    print(\"Unique values in 'MS Zoning':\", zoning_values)\n",
    "    print(\"Expected:\", expected_zoning)\n",
    "    wrongVal=0\n",
    "    for val in zoning_values:\n",
    "        if val not in expected_zoning:\n",
    "            print(f\"[ERROR] Value '{val}' in column 'MS Zoning' not expected.\")\n",
    "            wrongVal+=1\n",
    "    if wrongVal>0:\n",
    "      print(\"FAILED\")\n",
    "    else:\n",
    "      passed_tests += 1\n",
    "      print(\"PASSED\")\n",
    "else:\n",
    "    print(\"[ERROR] Column 'MS Zoning' not found.\")"
   ]
  },
  {
   "cell_type": "code",
   "execution_count": 15,
   "id": "BUyHON2YCEy3",
   "metadata": {
    "colab": {
     "base_uri": "https://localhost:8080/"
    },
    "executionInfo": {
     "elapsed": 6,
     "status": "ok",
     "timestamp": 1750818550042,
     "user": {
      "displayName": "Ángela Villota Gómez",
      "userId": "10405110632207482659"
     },
     "user_tz": 300
    },
    "id": "BUyHON2YCEy3",
    "outputId": "36dd1b26-ad07-43ad-dcb6-861965583ece"
   },
   "outputs": [
    {
     "name": "stdout",
     "output_type": "stream",
     "text": [
      "\n",
      "==== Mongo checks ====\n",
      "sum of 'Lot Frontage': 141808193747841433960756385471528814085105856570702621212153242424102988394959079701004411010561413610043436763108605998925856739272751008476705070555081707068886575391078588253930302424245768304080808078808077908880986868120505580807875801377070707073738780606011970686560857478649660757160878180706055565669604760505069686060605010090606060535050505350525251505760521107076100726065605472727570658065868094601248565685075834460778387807364649464908280827038756880447548487065676875608965946480526068676645506051507878661008535351004058506066666644857412988737392808589859394313621212121507670636876747485758860422840615757746059586599638012485944885808080828070757885786061606070706021242121212124242424242424242465961101041051081109895969594971051079512959878776771027410785907910311096704734348034100117444812948483663571491225351434343437159626134616042626482174106987990795274867878857675857275759072721128575858485656585756268658063639676676363606143886570755070756060637180606532403034343524611108078808075807870628070806065708510085115808568501289080808080659280851001207370668066707080120747653796760758060751077860505360608052606060909060608183779162906480606060606071706080706060767580606068575290905760636060566050506250505060336050906570601215060986060607214455505050505060506051515151515150605750689250575241608660506060546070807075657488886573686850506242606060746679907585801206464646464646464847961657168771226864956478798265654365112608078687068677967657560766136606070907090737070707585656364856775676475807286355064705056746570674560705560601024365645160575253536013080805470759078801002424242459506010560441097548437175727582150898311379731301257585857510032216221832121215062708562708785726559595357414541391007340651017753604663785685908075104808080606568633421212121212121532424969611467981071051041089610274851061108592130112586513562638948483636594343538062595155937160417784808413697919691819192867574757891738087727295757585856585626463686763666665816550654365757650557075656065957010559353730303424244235502424792424363822321038085807590737265727487767477801008280758582907280565050808080806380758010190717074827690728075756010295605771807660456060606070787631374606070808070606459601136060718069563060578060606063636381606060445010075625050103876910053346960606060603550756060658170525550505059505050505050609952525251516060506460605557636060606249606060608255115806270806857606094888560638382731245085758566120685050507068606086808565659191597965755768685793888075686540886060757573756541729670377583706575656485857463676775756465639060726012331335656592745660576870605962676745556060605551646679636352545160747910070562424506040715875607580605052120606444444476757674427471107737381754793858285798597787732150412121212110059376060607574858595955756416363601603835869852195616085817878936192798080801287090648070636661706034332621212124242424659690939193110107107110105109107110105981101185913476828694999911093707192613434413434444860684848596565586263886573737372646453535318265875959626362765859160100897483104929582658882759184497698116758579838574767075707572757281757511284848410085102636360657065505060648070854084444385458032474030353524342424667310650809040808094788013010880788880807079806570747670808085807570578550505150100809579796310070787365607075809070807272707560706068667160557070756060113605560606060937566706060786060607070708080708069606660605056605660601205050505057406053603585569060756040906052527655559870505060515252515151526047606060606040405712060506060526040605560107138605975756261657099708666109718199709185978410284706042583958605060104114116861038275777771939110366696885746475736478781556510557607060694743687272975972453975701206060807070656673908036736565707963656464647075677374808165746060128130356474755270626870606060606055555451606353555353405350828260126867811079706111075243570855050505050465960756475656059447180448246115149676864896742447380855093858870200629410044442121212121726168505412469766563628590605470134505072421686863304459606385828292661006069909180817980857581787878807160262424212121212121215365682424129721111101071081209810110812080828510382829086121131725674434848406148656565585810210596754343434353536074591066358668284831187893831149275494985738572100818465656560626074916363636574706570505060707068886565100121105893437302424303511460303640406879102908078807580727870708071707080808575698060685151529280898089797982858875174109707070801256972727075667555658085118709450506090606060606060606060848583777766796073808647606060607060607570706969747070625760606060586670565650506040425050525649486960607063656060849033656365695065525151525251505058509060591536060505060606060821201009255505075727096807574787588102878172100756278114607880707575577750888073133646464867373907878917878806280579565437079786872956511855504269120706090457067909075703737120704170747084896568656567134673835736275903535352424242432567262586060604545606076606058439669605454845160668080868180707090807890505061505075606950506041446965707814082425450859588881257832329041414258212180212121212155638016037627774 >>> Expected: 168908.0\n",
      "FAILED\n",
      "[ERROR] Column 'Pool Area' not found.\n",
      "[ERROR] Column 'Garage Cars' not found.\n",
      "[ERROR] Column 'Yr Sold' not found.\n"
     ]
    }
   ],
   "source": [
    "# ======================\n",
    "# 8. MONGO CHECKS\n",
    "# ======================\n",
    "print(\"\\n==== Mongo checks ====\")\n",
    "\n",
    "def safe_stat(col, stat=\"sum\", expected=None, decimals=None):\n",
    "    global total_tests, passed_tests\n",
    "    total_tests += 1\n",
    "    if col in df.columns:\n",
    "        if stat == \"sum\":\n",
    "            value = df[col].sum()\n",
    "        elif stat == \"mean\":\n",
    "            value = df[col].mean()\n",
    "        if decimals is not None:\n",
    "            value = round(value, decimals)\n",
    "        print(f\"{stat} of '{col}':\", value, \">>> Expected:\", expected)\n",
    "        if value == expected:\n",
    "            passed_tests += 1\n",
    "            print(\"PASSED\")\n",
    "        else:\n",
    "            print(\"FAILED\")\n",
    "    else:\n",
    "        print(f\"[ERROR] Column '{col}' not found.\")\n",
    "\n",
    "safe_stat('Lot Frontage', stat=\"sum\", expected=168908.0) #Fixed Manually\n",
    "safe_stat('Pool Area', stat=\"sum\", expected=6573)#Fixed Manually\n",
    "safe_stat('Garage Cars', stat=\"sum\", expected=5175)\n",
    "safe_stat('Yr Sold', stat=\"mean\", expected=2007.790, decimals=3)#Fixed Manually"
   ]
  },
  {
   "cell_type": "code",
   "execution_count": 10,
   "id": "LiAI88ddB7bS",
   "metadata": {
    "colab": {
     "base_uri": "https://localhost:8080/"
    },
    "executionInfo": {
     "elapsed": 4,
     "status": "ok",
     "timestamp": 1750818550045,
     "user": {
      "displayName": "Ángela Villota Gómez",
      "userId": "10405110632207482659"
     },
     "user_tz": 300
    },
    "id": "LiAI88ddB7bS",
    "outputId": "933cdec2-3e48-44e8-e12a-f3baa834177d"
   },
   "outputs": [
    {
     "name": "stdout",
     "output_type": "stream",
     "text": [
      "\n",
      "==== VALIDATION COMPLETE ====\n",
      "Total tests: 18\n",
      "Tests passed: 1\n",
      "Percentage passed: 5.56 %\n"
     ]
    }
   ],
   "source": [
    "#Final Report\n",
    "print(\"\\n==== VALIDATION COMPLETE ====\")\n",
    "print(\"Total tests:\", total_tests)\n",
    "print(\"Tests passed:\", passed_tests)\n",
    "print(\"Percentage passed:\", round(passed_tests/total_tests * 100, 2), \"%\")"
   ]
  }
 ],
 "metadata": {
  "colab": {
   "provenance": []
  },
  "kernelspec": {
   "display_name": "base",
   "language": "python",
   "name": "python3"
  },
  "language_info": {
   "codemirror_mode": {
    "name": "ipython",
    "version": 3
   },
   "file_extension": ".py",
   "mimetype": "text/x-python",
   "name": "python",
   "nbconvert_exporter": "python",
   "pygments_lexer": "ipython3",
   "version": "3.9.7"
  }
 },
 "nbformat": 4,
 "nbformat_minor": 5
}
